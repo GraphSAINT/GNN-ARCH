{
 "cells": [
  {
   "cell_type": "code",
   "execution_count": 1,
   "id": "blank-replacement",
   "metadata": {},
   "outputs": [],
   "source": [
    "import numpy as np"
   ]
  },
  {
   "cell_type": "code",
   "execution_count": 2,
   "id": "understood-comparative",
   "metadata": {},
   "outputs": [],
   "source": [
    "n = 64\n",
    "f = 128\n",
    "nnz = 256"
   ]
  },
  {
   "cell_type": "code",
   "execution_count": 3,
   "id": "separate-surrey",
   "metadata": {},
   "outputs": [],
   "source": [
    "dense = np.random.rand(n,f)\n",
    "value = np.random.rand(nnz)\n",
    "index = np.random.randint(0, n - 1, size=nnz)\n",
    "indptr = np.zeros(n+1)\n",
    "\n",
    "start=0\n",
    "\n",
    "for i in range(n):\n",
    "    incremental = np.random.randint(1,6);\n",
    "    start = start + incremental\n",
    "    if (start < nnz):\n",
    "        indptr[i + 1] = start\n",
    "    else:\n",
    "        indptr[i + 1] = nnz\n",
    "\n",
    "indptr[n] = nnz"
   ]
  },
  {
   "cell_type": "code",
   "execution_count": 4,
   "id": "progressive-argentina",
   "metadata": {},
   "outputs": [
    {
     "data": {
      "text/plain": [
       "256"
      ]
     },
     "execution_count": 4,
     "metadata": {},
     "output_type": "execute_result"
    }
   ],
   "source": [
    "len(index)"
   ]
  },
  {
   "cell_type": "markdown",
   "id": "reserved-boundary",
   "metadata": {},
   "source": [
    "## this is a function for converting the float32 to IEEE 754 binary format"
   ]
  },
  {
   "cell_type": "code",
   "execution_count": 5,
   "id": "accredited-senegal",
   "metadata": {},
   "outputs": [],
   "source": [
    "import struct\n",
    "def float32toIEEE754(f):\n",
    "    s = struct.pack('f', f)\n",
    "    t=s.hex()\n",
    "    news=''\n",
    "    news=t[6]+t[7]+t[4]+t[5]+t[2]+t[3]+t[1]+t[0];\n",
    "    return news"
   ]
  },
  {
   "cell_type": "code",
   "execution_count": 6,
   "id": "strange-market",
   "metadata": {},
   "outputs": [
    {
     "data": {
      "text/plain": [
       "'60dc9c9c'"
      ]
     },
     "execution_count": 6,
     "metadata": {},
     "output_type": "execute_result"
    }
   ],
   "source": [
    "float32toIEEE754(1.2717441261e+20)"
   ]
  },
  {
   "cell_type": "code",
   "execution_count": 7,
   "id": "surgical-angola",
   "metadata": {},
   "outputs": [
    {
     "data": {
      "text/plain": [
       "'3f800000'"
      ]
     },
     "execution_count": 7,
     "metadata": {},
     "output_type": "execute_result"
    }
   ],
   "source": [
    "float32toIEEE754(1)"
   ]
  },
  {
   "cell_type": "code",
   "execution_count": 8,
   "id": "offshore-raise",
   "metadata": {},
   "outputs": [
    {
     "data": {
      "text/plain": [
       "array([  0.,   4.,   5.,  10.,  15.,  16.,  17.,  19.,  22.,  27.,  29.,\n",
       "        31.,  35.,  40.,  43.,  48.,  52.,  55.,  60.,  65.,  68.,  72.,\n",
       "        75.,  76.,  80.,  81.,  85.,  86.,  90.,  93.,  95., 100., 105.,\n",
       "       106., 111., 112., 113., 115., 118., 119., 123., 124., 129., 130.,\n",
       "       133., 137., 139., 144., 145., 149., 154., 156., 161., 162., 163.,\n",
       "       168., 172., 175., 178., 179., 183., 184., 185., 190., 256.])"
      ]
     },
     "execution_count": 8,
     "metadata": {},
     "output_type": "execute_result"
    }
   ],
   "source": [
    "indptr"
   ]
  },
  {
   "cell_type": "code",
   "execution_count": 9,
   "id": "distinguished-escape",
   "metadata": {},
   "outputs": [],
   "source": [
    "length = indptr[1:] - indptr[0:-1] "
   ]
  },
  {
   "cell_type": "code",
   "execution_count": null,
   "id": "accessory-static",
   "metadata": {},
   "outputs": [],
   "source": []
  },
  {
   "cell_type": "markdown",
   "id": "turned-bullet",
   "metadata": {},
   "source": [
    "## generate length array"
   ]
  },
  {
   "cell_type": "code",
   "execution_count": 10,
   "id": "constant-tract",
   "metadata": {},
   "outputs": [
    {
     "name": "stdout",
     "output_type": "stream",
     "text": [
      "32\n",
      "32\n"
     ]
    }
   ],
   "source": [
    "length1 = length[0:32]\n",
    "length2 = length[32:64]\n",
    "print(len(length1))\n",
    "print(len(length2))"
   ]
  },
  {
   "cell_type": "code",
   "execution_count": 11,
   "id": "official-continuity",
   "metadata": {},
   "outputs": [],
   "source": [
    "f = open(\"length1.mem\", \"w\")\n",
    "for i in length1:\n",
    "    f.write('{:04x}'.format(int(i)))\n",
    "    f.write(\"\\n\")\n",
    "f.close()\n",
    "\n",
    "f = open(\"length2.mem\", \"w\")\n",
    "for i in length2:\n",
    "    f.write('{:04x}'.format(int(i)))\n",
    "    f.write(\"\\n\")\n",
    "f.close()"
   ]
  },
  {
   "cell_type": "code",
   "execution_count": 12,
   "id": "organic-emphasis",
   "metadata": {},
   "outputs": [
    {
     "data": {
      "text/plain": [
       "'0040'"
      ]
     },
     "execution_count": 12,
     "metadata": {},
     "output_type": "execute_result"
    }
   ],
   "source": [
    "'{:04x}'.format(64)"
   ]
  },
  {
   "cell_type": "markdown",
   "id": "burning-switzerland",
   "metadata": {},
   "source": [
    "## generate index array"
   ]
  },
  {
   "cell_type": "code",
   "execution_count": 13,
   "id": "unlimited-flavor",
   "metadata": {},
   "outputs": [
    {
     "name": "stdout",
     "output_type": "stream",
     "text": [
      "105\n",
      "151\n"
     ]
    }
   ],
   "source": [
    "index1 = index[0:int(indptr[32])]\n",
    "index2 = index[int(indptr[32]):int(indptr[64])]\n",
    "print(len(index1))\n",
    "print(len(index2))"
   ]
  },
  {
   "cell_type": "code",
   "execution_count": 14,
   "id": "different-deviation",
   "metadata": {},
   "outputs": [],
   "source": [
    "f = open(\"index1.mem\", \"w\")\n",
    "for i in index1:\n",
    "    f.write('{:04x}'.format(int(i)))\n",
    "    f.write(\"\\n\")\n",
    "f.close()\n",
    "\n",
    "f = open(\"index2.mem\", \"w\")\n",
    "for i in index2:\n",
    "    f.write('{:04x}'.format(int(i)))\n",
    "    f.write(\"\\n\")\n",
    "f.close()"
   ]
  },
  {
   "cell_type": "code",
   "execution_count": 15,
   "id": "sexual-guarantee",
   "metadata": {},
   "outputs": [
    {
     "data": {
      "text/plain": [
       "array([52, 42, 44, 39, 50, 12, 15, 28, 22, 33, 61, 53, 58,  4, 32, 49, 53,\n",
       "        5, 27, 46,  5, 32, 29, 44, 16, 48, 62, 53, 48, 23, 25, 43, 21, 61,\n",
       "       41, 34, 15, 36, 40,  6, 13, 24, 39, 36, 49, 30, 53, 40, 19, 25, 20,\n",
       "       50, 47, 50,  0, 32,  7,  6, 44, 19, 17, 20, 33,  1, 59,  8, 14, 43,\n",
       "       59, 25, 16,  4,  7,  8, 32, 42, 11, 61, 35, 62, 16, 30, 27, 22, 40,\n",
       "       56, 55, 22, 29, 29, 29, 32, 18, 46,  4, 29, 26, 32, 17, 48, 48, 46,\n",
       "       45, 53, 22, 24, 59, 50, 40, 55, 23, 29, 50,  3, 46, 37,  8,  0, 62,\n",
       "       11, 42, 21, 29, 37,  1,  4, 24, 24, 42, 39, 47, 22, 56, 33, 11, 61,\n",
       "       26, 59, 58, 33, 46, 30, 11, 54,  9, 33, 22, 41, 19, 44, 16])"
      ]
     },
     "execution_count": 15,
     "metadata": {},
     "output_type": "execute_result"
    }
   ],
   "source": [
    "index2"
   ]
  },
  {
   "cell_type": "markdown",
   "id": "competent-photographer",
   "metadata": {},
   "source": [
    "## generate value array"
   ]
  },
  {
   "cell_type": "code",
   "execution_count": 16,
   "id": "vital-softball",
   "metadata": {},
   "outputs": [],
   "source": [
    "value1 = value[0:int(indptr[32])]\n",
    "value2 = value[int(indptr[32]):int(indptr[64])]"
   ]
  },
  {
   "cell_type": "code",
   "execution_count": 17,
   "id": "monthly-competition",
   "metadata": {},
   "outputs": [],
   "source": [
    "f = open(\"value1.mem\", \"w\")\n",
    "for i in value1:\n",
    "    f.write(float32toIEEE754(i))\n",
    "    f.write(\"\\n\")\n",
    "f.close()\n",
    "\n",
    "f = open(\"value2.mem\", \"w\")\n",
    "for i in value2:\n",
    "    f.write(float32toIEEE754(i))\n",
    "    f.write(\"\\n\")\n",
    "f.close()"
   ]
  },
  {
   "cell_type": "code",
   "execution_count": 18,
   "id": "systematic-doubt",
   "metadata": {},
   "outputs": [
    {
     "name": "stdout",
     "output_type": "stream",
     "text": [
      "105\n",
      "151\n"
     ]
    }
   ],
   "source": [
    "print(len(value1))\n",
    "print(len(value2))"
   ]
  },
  {
   "cell_type": "markdown",
   "id": "choice-update",
   "metadata": {},
   "source": [
    "## generate dst array"
   ]
  },
  {
   "cell_type": "code",
   "execution_count": 19,
   "id": "scheduled-department",
   "metadata": {},
   "outputs": [],
   "source": [
    "dst1 = list(range(0,32))\n",
    "dst2 = list(range(32,64))"
   ]
  },
  {
   "cell_type": "code",
   "execution_count": 20,
   "id": "oriented-clinic",
   "metadata": {},
   "outputs": [],
   "source": [
    "f = open(\"dst1.mem\", \"w\")\n",
    "for i in dst1:\n",
    "    f.write('{:04x}'.format(int(i)))\n",
    "    f.write(\"\\n\")\n",
    "f.close()\n",
    "\n",
    "f = open(\"dst2.mem\", \"w\")\n",
    "for i in dst2:\n",
    "    f.write('{:04x}'.format(int(i)))\n",
    "    f.write(\"\\n\")\n",
    "f.close()"
   ]
  },
  {
   "cell_type": "code",
   "execution_count": 21,
   "id": "complex-myrtle",
   "metadata": {},
   "outputs": [
    {
     "data": {
      "text/plain": [
       "8192"
      ]
     },
     "execution_count": 21,
     "metadata": {},
     "output_type": "execute_result"
    }
   ],
   "source": [
    "dense.size"
   ]
  },
  {
   "cell_type": "markdown",
   "id": "greatest-barrel",
   "metadata": {},
   "source": [
    "#  Generate Dense Array"
   ]
  },
  {
   "cell_type": "code",
   "execution_count": 22,
   "id": "super-envelope",
   "metadata": {},
   "outputs": [
    {
     "data": {
      "text/plain": [
       "(64, 128)"
      ]
     },
     "execution_count": 22,
     "metadata": {},
     "output_type": "execute_result"
    }
   ],
   "source": [
    "dense.shape"
   ]
  },
  {
   "cell_type": "code",
   "execution_count": 23,
   "id": "foster-worcester",
   "metadata": {},
   "outputs": [],
   "source": [
    "f = open(\"dense.mem\", \"w\")\n",
    "for i in dense:\n",
    "    for j in i:\n",
    "        f.write(float32toIEEE754(j))\n",
    "    f.write(\"\\n\")\n",
    "f.close()"
   ]
  },
  {
   "cell_type": "markdown",
   "id": "animated-brief",
   "metadata": {},
   "source": [
    "# generate destination result"
   ]
  },
  {
   "cell_type": "code",
   "execution_count": 24,
   "id": "green-republican",
   "metadata": {},
   "outputs": [],
   "source": [
    "n = 64\n",
    "f = 128\n",
    "result = np.zeros((n,f));\n",
    "for i in range(0,64):\n",
    "    for j in range(int(indptr[i]), int(indptr[i + 1])):\n",
    "        i_value = value[j]\n",
    "        i_index = index[j]\n",
    "        for k in range(f):\n",
    "            result[i,k] =  result[i,k] + i_value * dense[i_index,k]\n"
   ]
  },
  {
   "cell_type": "code",
   "execution_count": 25,
   "id": "endless-island",
   "metadata": {},
   "outputs": [
    {
     "data": {
      "text/plain": [
       "array([[ 1.94591165,  1.29487133,  1.79701574, ...,  1.63901119,\n",
       "         1.70035338,  1.90444345],\n",
       "       [ 0.35997971,  0.30425867,  0.62972635, ...,  0.4548212 ,\n",
       "         0.26064659,  0.07208136],\n",
       "       [ 2.05936594,  0.97366873,  1.00136796, ...,  2.00006517,\n",
       "         1.55088154,  2.29993506],\n",
       "       ...,\n",
       "       [ 0.14193458,  0.15148802,  0.06030347, ...,  0.03363172,\n",
       "         0.01643529,  0.05718498],\n",
       "       [ 2.54027369,  1.41923167,  1.6641643 , ...,  1.24482061,\n",
       "         1.97564684,  2.62212051],\n",
       "       [13.10516297, 15.29342422, 13.75077471, ..., 15.59182723,\n",
       "        10.8285238 , 14.26641889]])"
      ]
     },
     "execution_count": 25,
     "metadata": {},
     "output_type": "execute_result"
    }
   ],
   "source": [
    "result"
   ]
  },
  {
   "cell_type": "code",
   "execution_count": 30,
   "id": "automated-regression",
   "metadata": {},
   "outputs": [
    {
     "data": {
      "text/plain": [
       "array([1.67164253, 1.68575004, 1.62292377, 1.32776031, 0.94210071,\n",
       "       1.85231792, 1.32655033, 1.59348147, 0.62138823, 0.98548291,\n",
       "       1.13559049, 0.74995661, 0.90637081, 0.4322395 , 0.9773131 ,\n",
       "       1.15651248, 1.2117257 , 1.15326304, 0.58839394, 1.43488504,\n",
       "       1.45885498, 0.70171762, 1.74125045, 1.5220525 , 1.34024428,\n",
       "       1.64676431, 1.08631999, 1.64328667, 1.00063342, 1.58393461,\n",
       "       1.03647113, 1.44098866, 1.26309332, 1.04939951, 1.77544331,\n",
       "       0.43901586, 1.01807217, 1.08620048, 1.0555274 , 1.96538591,\n",
       "       1.93110229, 1.25802176, 1.90895947, 1.15792567, 0.6310898 ,\n",
       "       1.57317326, 1.49917031, 1.14436396, 1.04593231, 1.37240055,\n",
       "       1.21007978, 1.19357099, 1.143105  , 1.20567429, 0.65099134,\n",
       "       1.37315883, 1.20759481, 1.69772693, 0.73801161, 1.37432695,\n",
       "       0.60068919, 0.80449414, 1.31203856, 1.80865838, 1.35946771,\n",
       "       1.97288855, 1.17532174, 1.33519371, 0.92996656, 1.9284219 ,\n",
       "       1.2551173 , 1.09160191, 1.34294414, 1.06361646, 1.90907702,\n",
       "       0.80020182, 1.75629681, 1.38260462, 1.09250058, 1.15874233,\n",
       "       0.81690696, 0.84474337, 1.64443954, 0.56153892, 0.73630595,\n",
       "       1.38301945, 1.7609938 , 1.62309561, 0.40091887, 0.73206586,\n",
       "       1.07476695, 1.65572035, 1.16620644, 1.47581179, 0.99040794,\n",
       "       1.15322443, 1.27369823, 1.43066609, 0.92720496, 0.80235772,\n",
       "       1.47604335, 0.34197337, 1.33908016, 0.59734786, 1.34822715,\n",
       "       0.99937378, 1.42190419, 0.78473192, 1.54083352, 0.75976014,\n",
       "       0.58718268, 0.67496412, 0.62821587, 1.11311794, 1.55849732,\n",
       "       0.62714784, 0.70862222, 0.98771294, 1.31709151, 1.33962125,\n",
       "       1.01616542, 1.84361866, 0.83984938, 0.81922262, 1.14002173,\n",
       "       1.11470569, 1.6622792 , 2.10775056])"
      ]
     },
     "execution_count": 30,
     "metadata": {},
     "output_type": "execute_result"
    }
   ],
   "source": [
    "result[31]"
   ]
  },
  {
   "cell_type": "code",
   "execution_count": 27,
   "id": "offshore-blackjack",
   "metadata": {},
   "outputs": [
    {
     "data": {
      "text/plain": [
       "array([50, 32, 41,  8, 28, 25, 23, 43, 51, 52, 52, 55, 36, 38,  2, 19,  2,\n",
       "       33, 53, 53, 54, 30, 41,  1, 15, 27, 28, 45, 42, 27, 20, 19,  1, 53,\n",
       "       62,  3, 15, 54, 14, 44,  9, 50, 11, 17,  4, 11, 51, 46, 56,  3, 31,\n",
       "       28, 16, 59,  2, 49, 10, 58, 53, 61, 29,  6, 36, 48, 51, 27,  5, 43,\n",
       "       52, 11, 30,  1, 32, 17,  1, 62, 27, 36, 34, 35, 55, 61, 41, 14, 46,\n",
       "       43, 59, 26, 24,  8, 36, 53, 22, 49,  9, 55, 52, 13, 16, 60, 11, 11,\n",
       "       57, 56,  7])"
      ]
     },
     "execution_count": 27,
     "metadata": {},
     "output_type": "execute_result"
    }
   ],
   "source": [
    "index1"
   ]
  },
  {
   "cell_type": "code",
   "execution_count": null,
   "id": "martial-currency",
   "metadata": {},
   "outputs": [],
   "source": []
  }
 ],
 "metadata": {
  "kernelspec": {
   "display_name": "Python 3",
   "language": "python",
   "name": "python3"
  },
  "language_info": {
   "codemirror_mode": {
    "name": "ipython",
    "version": 3
   },
   "file_extension": ".py",
   "mimetype": "text/x-python",
   "name": "python",
   "nbconvert_exporter": "python",
   "pygments_lexer": "ipython3",
   "version": "3.7.9"
  }
 },
 "nbformat": 4,
 "nbformat_minor": 5
}
