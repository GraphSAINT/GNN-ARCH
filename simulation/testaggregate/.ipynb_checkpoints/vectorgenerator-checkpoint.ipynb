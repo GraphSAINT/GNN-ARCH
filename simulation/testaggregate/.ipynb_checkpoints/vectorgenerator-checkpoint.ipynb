{
 "cells": [
  {
   "cell_type": "code",
   "execution_count": 1,
   "id": "blank-replacement",
   "metadata": {},
   "outputs": [],
   "source": [
    "import numpy as np"
   ]
  },
  {
   "cell_type": "code",
   "execution_count": 2,
   "id": "understood-comparative",
   "metadata": {},
   "outputs": [],
   "source": [
    "n = 64\n",
    "f = 128\n",
    "nnz = 256"
   ]
  },
  {
   "cell_type": "code",
   "execution_count": 3,
   "id": "separate-surrey",
   "metadata": {},
   "outputs": [],
   "source": [
    "dense = np.random.rand(n,f)\n",
    "value = np.random.rand(nnz)\n",
    "index = np.random.randint(0, n - 1, size=nnz)\n",
    "indptr = np.zeros(n+1)\n",
    "\n",
    "start=0\n",
    "\n",
    "for i in range(n):\n",
    "    incremental = np.random.randint(1,6);\n",
    "    start = start + incremental\n",
    "    if (start < nnz):\n",
    "        indptr[i + 1] = start\n",
    "    else:\n",
    "        indptr[i + 1] = nnz\n",
    "\n",
    "indptr[n] = nnz"
   ]
  },
  {
   "cell_type": "code",
   "execution_count": 4,
   "id": "deadly-rings",
   "metadata": {},
   "outputs": [
    {
     "data": {
      "text/plain": [
       "256"
      ]
     },
     "execution_count": 4,
     "metadata": {},
     "output_type": "execute_result"
    }
   ],
   "source": [
    "len(index)"
   ]
  },
  {
   "cell_type": "markdown",
   "id": "reserved-boundary",
   "metadata": {},
   "source": [
    "## this is a function for converting the float32 to IEEE 754 binary format"
   ]
  },
  {
   "cell_type": "code",
   "execution_count": 5,
   "id": "accredited-senegal",
   "metadata": {},
   "outputs": [],
   "source": [
    "import struct\n",
    "def float32toIEEE754(f):\n",
    "    s = struct.pack('f', f)\n",
    "    t=s.hex()\n",
    "    news=''\n",
    "    news=t[6]+t[7]+t[4]+t[5]+t[2]+t[3]+t[1]+t[0];\n",
    "    return news"
   ]
  },
  {
   "cell_type": "code",
   "execution_count": 6,
   "id": "strange-market",
   "metadata": {},
   "outputs": [
    {
     "data": {
      "text/plain": [
       "'60dc9c9c'"
      ]
     },
     "execution_count": 6,
     "metadata": {},
     "output_type": "execute_result"
    }
   ],
   "source": [
    "float32toIEEE754(1.2717441261e+20)"
   ]
  },
  {
   "cell_type": "code",
   "execution_count": 7,
   "id": "surgical-angola",
   "metadata": {},
   "outputs": [
    {
     "data": {
      "text/plain": [
       "'3f800000'"
      ]
     },
     "execution_count": 7,
     "metadata": {},
     "output_type": "execute_result"
    }
   ],
   "source": [
    "float32toIEEE754(1)"
   ]
  },
  {
   "cell_type": "code",
   "execution_count": 8,
   "id": "offshore-raise",
   "metadata": {},
   "outputs": [
    {
     "data": {
      "text/plain": [
       "array([  0.,   1.,   3.,   6.,  11.,  16.,  19.,  22.,  27.,  28.,  33.,\n",
       "        35.,  38.,  41.,  46.,  51.,  54.,  58.,  60.,  65.,  69.,  73.,\n",
       "        75.,  79.,  82.,  84.,  87.,  88.,  92.,  96.,  99., 100., 104.,\n",
       "       107., 110., 115., 120., 125., 130., 133., 136., 137., 138., 143.,\n",
       "       148., 150., 151., 156., 158., 162., 165., 169., 173., 177., 179.,\n",
       "       183., 186., 188., 193., 196., 200., 204., 207., 208., 256.])"
      ]
     },
     "execution_count": 8,
     "metadata": {},
     "output_type": "execute_result"
    }
   ],
   "source": [
    "indptr"
   ]
  },
  {
   "cell_type": "code",
   "execution_count": 9,
   "id": "distinguished-escape",
   "metadata": {},
   "outputs": [],
   "source": [
    "length = indptr[1:] - indptr[0:-1] "
   ]
  },
  {
   "cell_type": "code",
   "execution_count": null,
   "id": "accessory-static",
   "metadata": {},
   "outputs": [],
   "source": []
  },
  {
   "cell_type": "markdown",
   "id": "turned-bullet",
   "metadata": {},
   "source": [
    "## generate length array"
   ]
  },
  {
   "cell_type": "code",
   "execution_count": 10,
   "id": "constant-tract",
   "metadata": {},
   "outputs": [
    {
     "name": "stdout",
     "output_type": "stream",
     "text": [
      "32\n",
      "32\n"
     ]
    }
   ],
   "source": [
    "length1 = length[0:32]\n",
    "length2 = length[32:64]\n",
    "print(len(length1))\n",
    "print(len(length2))"
   ]
  },
  {
   "cell_type": "code",
   "execution_count": 11,
   "id": "official-continuity",
   "metadata": {},
   "outputs": [],
   "source": [
    "f = open(\"length1.mem\", \"w\")\n",
    "for i in length1:\n",
    "    f.write('{:04x}'.format(int(i)))\n",
    "    f.write(\"\\n\")\n",
    "f.close()\n",
    "\n",
    "f = open(\"length2.mem\", \"w\")\n",
    "for i in length2:\n",
    "    f.write('{:04x}'.format(int(i)))\n",
    "    f.write(\"\\n\")\n",
    "f.close()"
   ]
  },
  {
   "cell_type": "code",
   "execution_count": 12,
   "id": "organic-emphasis",
   "metadata": {},
   "outputs": [
    {
     "data": {
      "text/plain": [
       "'0040'"
      ]
     },
     "execution_count": 12,
     "metadata": {},
     "output_type": "execute_result"
    }
   ],
   "source": [
    "'{:04x}'.format(64)"
   ]
  },
  {
   "cell_type": "markdown",
   "id": "burning-switzerland",
   "metadata": {},
   "source": [
    "## generate index array"
   ]
  },
  {
   "cell_type": "code",
   "execution_count": 13,
   "id": "unlimited-flavor",
   "metadata": {},
   "outputs": [
    {
     "name": "stdout",
     "output_type": "stream",
     "text": [
      "104\n",
      "152\n"
     ]
    }
   ],
   "source": [
    "index1 = index[0:int(indptr[32])]\n",
    "index2 = index[int(indptr[32]):int(indptr[64])]\n",
    "print(len(index1))\n",
    "print(len(index2))"
   ]
  },
  {
   "cell_type": "code",
   "execution_count": 14,
   "id": "different-deviation",
   "metadata": {},
   "outputs": [],
   "source": [
    "f = open(\"index1.mem\", \"w\")\n",
    "for i in index1:\n",
    "    f.write('{:04x}'.format(int(i)))\n",
    "    f.write(\"\\n\")\n",
    "f.close()\n",
    "\n",
    "f = open(\"index2.mem\", \"w\")\n",
    "for i in index2:\n",
    "    f.write('{:04x}'.format(int(i)))\n",
    "    f.write(\"\\n\")\n",
    "f.close()"
   ]
  },
  {
   "cell_type": "code",
   "execution_count": 15,
   "id": "sexual-guarantee",
   "metadata": {},
   "outputs": [
    {
     "data": {
      "text/plain": [
       "array([33, 10, 10, 56, 34, 56, 19, 34, 37, 30, 44, 30, 53, 23, 22, 17, 15,\n",
       "       10, 42, 19,  4,  6,  2, 42, 57, 52, 55, 14, 26,  5, 49, 40, 51, 58,\n",
       "        1, 37, 10, 54, 24, 19, 13, 38, 14, 44, 21,  1,  3, 35,  1, 15, 46,\n",
       "       40, 18, 46, 10, 23, 29, 28, 53, 58, 43, 53, 20, 56, 17, 15, 11, 41,\n",
       "       26, 16, 26, 15, 22, 15, 52, 60, 51,  7, 60, 50, 11, 32, 55, 24,  1,\n",
       "       55, 60,  6, 50, 19, 56, 57, 10, 36, 43, 62, 25, 32, 31,  3, 22, 23,\n",
       "       33, 36, 26, 39, 62,  9, 29, 54, 56, 33, 49, 19, 34, 19, 28, 14, 14,\n",
       "        2, 59,  5, 13, 31,  8, 29, 42, 24, 46, 35, 51, 10,  8, 53,  3, 26,\n",
       "       10, 17, 45, 53, 25, 61, 35, 52,  9, 55,  1, 28,  4, 45, 58,  8])"
      ]
     },
     "execution_count": 15,
     "metadata": {},
     "output_type": "execute_result"
    }
   ],
   "source": [
    "index2"
   ]
  },
  {
   "cell_type": "markdown",
   "id": "competent-photographer",
   "metadata": {},
   "source": [
    "## generate value array"
   ]
  },
  {
   "cell_type": "code",
   "execution_count": 16,
   "id": "vital-softball",
   "metadata": {},
   "outputs": [],
   "source": [
    "value1 = value[0:int(indptr[32])]\n",
    "value2 = value[int(indptr[32]):int(indptr[64])]"
   ]
  },
  {
   "cell_type": "code",
   "execution_count": 17,
   "id": "monthly-competition",
   "metadata": {},
   "outputs": [],
   "source": [
    "f = open(\"value1.mem\", \"w\")\n",
    "for i in value1:\n",
    "    f.write(float32toIEEE754(i))\n",
    "    f.write(\"\\n\")\n",
    "f.close()\n",
    "\n",
    "f = open(\"value2.mem\", \"w\")\n",
    "for i in value2:\n",
    "    f.write(float32toIEEE754(i))\n",
    "    f.write(\"\\n\")\n",
    "f.close()"
   ]
  },
  {
   "cell_type": "code",
   "execution_count": 18,
   "id": "systematic-doubt",
   "metadata": {},
   "outputs": [
    {
     "name": "stdout",
     "output_type": "stream",
     "text": [
      "104\n",
      "152\n"
     ]
    }
   ],
   "source": [
    "print(len(value1))\n",
    "print(len(value2))"
   ]
  },
  {
   "cell_type": "markdown",
   "id": "choice-update",
   "metadata": {},
   "source": [
    "## generate dst array"
   ]
  },
  {
   "cell_type": "code",
   "execution_count": 19,
   "id": "scheduled-department",
   "metadata": {},
   "outputs": [],
   "source": [
    "dst1 = list(range(0,32))\n",
    "dst2 = list(range(32,64))"
   ]
  },
  {
   "cell_type": "code",
   "execution_count": 20,
   "id": "oriented-clinic",
   "metadata": {},
   "outputs": [],
   "source": [
    "f = open(\"dst1.mem\", \"w\")\n",
    "for i in dst1:\n",
    "    f.write('{:04x}'.format(int(i)))\n",
    "    f.write(\"\\n\")\n",
    "f.close()\n",
    "\n",
    "f = open(\"dst2.mem\", \"w\")\n",
    "for i in dst2:\n",
    "    f.write('{:04x}'.format(int(i)))\n",
    "    f.write(\"\\n\")\n",
    "f.close()"
   ]
  },
  {
   "cell_type": "code",
   "execution_count": 21,
   "id": "complex-myrtle",
   "metadata": {},
   "outputs": [
    {
     "data": {
      "text/plain": [
       "8192"
      ]
     },
     "execution_count": 21,
     "metadata": {},
     "output_type": "execute_result"
    }
   ],
   "source": [
    "dense.size"
   ]
  },
  {
   "cell_type": "markdown",
   "id": "interim-sender",
   "metadata": {},
   "source": [
    "#  Generate Dense Array"
   ]
  },
  {
   "cell_type": "code",
   "execution_count": 22,
   "id": "micro-external",
   "metadata": {},
   "outputs": [
    {
     "data": {
      "text/plain": [
       "(64, 128)"
      ]
     },
     "execution_count": 22,
     "metadata": {},
     "output_type": "execute_result"
    }
   ],
   "source": [
    "dense.shape"
   ]
  },
  {
   "cell_type": "code",
   "execution_count": 23,
   "id": "alternate-consolidation",
   "metadata": {},
   "outputs": [],
   "source": [
    "f = open(\"dense.mem\", \"w\")\n",
    "for i in dense:\n",
    "    for j in i:\n",
    "        f.write(float32toIEEE754(j))\n",
    "    f.write(\"\\n\")\n",
    "f.close()"
   ]
  },
  {
   "cell_type": "markdown",
   "id": "expected-deviation",
   "metadata": {},
   "source": [
    "# generate destination result"
   ]
  },
  {
   "cell_type": "code",
   "execution_count": 28,
   "id": "intense-nevada",
   "metadata": {},
   "outputs": [
    {
     "ename": "IndexError",
     "evalue": "index 64 is out of bounds for axis 0 with size 64",
     "output_type": "error",
     "traceback": [
      "\u001b[0;31m---------------------------------------------------------------------------\u001b[0m",
      "\u001b[0;31mIndexError\u001b[0m                                Traceback (most recent call last)",
      "\u001b[0;32m<ipython-input-28-7b887c9bf3f1>\u001b[0m in \u001b[0;36m<module>\u001b[0;34m\u001b[0m\n\u001b[1;32m      7\u001b[0m         \u001b[0mi_index\u001b[0m \u001b[0;34m=\u001b[0m \u001b[0mindex\u001b[0m\u001b[0;34m[\u001b[0m\u001b[0mj\u001b[0m\u001b[0;34m]\u001b[0m\u001b[0;34m\u001b[0m\u001b[0;34m\u001b[0m\u001b[0m\n\u001b[1;32m      8\u001b[0m         \u001b[0;32mfor\u001b[0m \u001b[0mk\u001b[0m \u001b[0;32min\u001b[0m \u001b[0mrange\u001b[0m\u001b[0;34m(\u001b[0m\u001b[0mf\u001b[0m\u001b[0;34m)\u001b[0m\u001b[0;34m:\u001b[0m\u001b[0;34m\u001b[0m\u001b[0;34m\u001b[0m\u001b[0m\n\u001b[0;32m----> 9\u001b[0;31m             \u001b[0mresult\u001b[0m\u001b[0;34m[\u001b[0m\u001b[0mi\u001b[0m\u001b[0;34m,\u001b[0m\u001b[0mk\u001b[0m\u001b[0;34m]\u001b[0m \u001b[0;34m=\u001b[0m  \u001b[0mresult\u001b[0m\u001b[0;34m[\u001b[0m\u001b[0mi\u001b[0m\u001b[0;34m,\u001b[0m\u001b[0mk\u001b[0m\u001b[0;34m]\u001b[0m \u001b[0;34m+\u001b[0m \u001b[0mi_value\u001b[0m \u001b[0;34m*\u001b[0m \u001b[0mdense\u001b[0m\u001b[0;34m[\u001b[0m\u001b[0mj\u001b[0m\u001b[0;34m,\u001b[0m\u001b[0mk\u001b[0m\u001b[0;34m]\u001b[0m\u001b[0;34m\u001b[0m\u001b[0;34m\u001b[0m\u001b[0m\n\u001b[0m",
      "\u001b[0;31mIndexError\u001b[0m: index 64 is out of bounds for axis 0 with size 64"
     ]
    }
   ],
   "source": [
    "n = 64\n",
    "f = 128\n",
    "result = np.zeros((n,f));\n",
    "for i in range(0,32):\n",
    "    for j in range(int(indptr[i]), int(indptr[i + 1])):\n",
    "        i_value = value[j]\n",
    "        i_index = index[j]\n",
    "        for k in range(f):\n",
    "            result[i,k] =  result[i,k] + i_value * dense[i_index,k]\n"
   ]
  },
  {
   "cell_type": "code",
   "execution_count": null,
   "id": "altered-forestry",
   "metadata": {},
   "outputs": [],
   "source": []
  }
 ],
 "metadata": {
  "kernelspec": {
   "display_name": "Python 3",
   "language": "python",
   "name": "python3"
  },
  "language_info": {
   "codemirror_mode": {
    "name": "ipython",
    "version": 3
   },
   "file_extension": ".py",
   "mimetype": "text/x-python",
   "name": "python",
   "nbconvert_exporter": "python",
   "pygments_lexer": "ipython3",
   "version": "3.7.9"
  }
 },
 "nbformat": 4,
 "nbformat_minor": 5
}
